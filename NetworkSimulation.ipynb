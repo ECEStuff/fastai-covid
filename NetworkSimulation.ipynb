{
 "cells": [
  {
   "cell_type": "markdown",
   "metadata": {},
   "source": [
    "# Simulation of infection spreads in a network"
   ]
  },
  {
   "cell_type": "markdown",
   "metadata": {},
   "source": [
    "This demo will run a simulation in how an infection can spread in a small network.\n",
    "\n",
    "Initial idea: model the people as a graph. This limits the direct neighbors to 8, but we will change this assumption later on. Also, populate the matrix randomly."
   ]
  },
  {
   "cell_type": "markdown",
   "metadata": {},
   "source": [
    "Couple of assumptions:\n",
    "1. Once a node is infected, it is cured after 14 days, unless it dies.\n",
    "2. Once a node is cured after being infected, it has immunity to infection till 90 days.\n",
    "3. New nodes can be added to the network randomly, with probability 0.01.\n",
    "4. Once infected, a node has 0.03 probability of death. To simplify things, I will assume death happens in 14 days as well.\n",
    "5. Nodes don't move.\n",
    "6. Every turn of the simulation marks one day."
   ]
  },
  {
   "cell_type": "code",
   "execution_count": 12,
   "metadata": {},
   "outputs": [],
   "source": [
    "import numpy as np\n",
    "import matplotlib.pyplot as plot\n",
    "from networkx.generators.random_graphs import erdos_renyi_graph\n",
    "import networkx as nx\n",
    "from enum import Enum\n",
    "%matplotlib inline\n",
    "import ipycytoscape\n",
    "\n",
    "import time"
   ]
  },
  {
   "cell_type": "markdown",
   "metadata": {},
   "source": [
    "I use `ipycytoscape` as my visualization library, which will allow me to interact with graphs directly"
   ]
  },
  {
   "cell_type": "code",
   "execution_count": 2,
   "metadata": {},
   "outputs": [],
   "source": [
    "import ipywidgets as widgets"
   ]
  },
  {
   "cell_type": "code",
   "execution_count": 3,
   "metadata": {},
   "outputs": [],
   "source": [
    "from typing import Callable, Iterator, Union, Optional, List"
   ]
  },
  {
   "cell_type": "markdown",
   "metadata": {},
   "source": [
    "I keep a `Status` enum to denote node health"
   ]
  },
  {
   "cell_type": "code",
   "execution_count": 4,
   "metadata": {},
   "outputs": [],
   "source": [
    "class Status:\n",
    "    HEALTHY = 'HEALTHY'\n",
    "    IMMUNE = 'IMMUNE'\n",
    "    INFECTED = 'INFECTED'\n",
    "    DEAD = 'DEAD'\n"
   ]
  },
  {
   "cell_type": "markdown",
   "metadata": {},
   "source": [
    "For my `Node` class, I keep a simple structure. I keep track of the current \"health\" of the node, and keep two counters to keep track of infection and immunity time. "
   ]
  },
  {
   "cell_type": "code",
   "execution_count": 5,
   "metadata": {},
   "outputs": [],
   "source": [
    "class MyNode(ipycytoscape.Node):\n",
    "    MAX_IMMUNITY_TIME = 4\n",
    "    MAX_INFECTED_TIME = 2\n",
    "    PROB_DEATH = 0\n",
    "    def __init__(self,\n",
    "                 nodeNum: int,\n",
    "                 maxImmunityTime: int, \n",
    "                 maxInfectionTime: int,\n",
    "                 probDeath: int,\n",
    "                 status: Status = Status.HEALTHY):\n",
    "        super().__init__()\n",
    "        self.data['id'] = nodeNum\n",
    "        self.maxImmunityTime = maxImmunityTime\n",
    "        self.maxInfectionTime = maxInfectionTime\n",
    "        self.probDeath = probDeath\n",
    "        self.classes = status\n",
    "        self.infectionTime = 0\n",
    "        self.immunityTime = 0\n",
    "        self.willDie = 0\n",
    "        \n",
    "    def __str__(self):\n",
    "        temp = super().__str__()\n",
    "        return f\"super: {temp}, infectionTime: {self.infectionTime}, immunityTime: {self.immunityTime}, willDie: {self.willDie}\"\n",
    "    \n",
    "    def processCycle(self, time: int, infect: bool) -> bool:\n",
    "        if self.classes == Status.DEAD:\n",
    "            return True\n",
    "        if infect:\n",
    "            if self.classes == Status.HEALTHY:\n",
    "                self.infect(time)\n",
    "            return False\n",
    "        \n",
    "        if self.classes == Status.IMMUNE:\n",
    "            if time - self.immunityTime > self.maxImmunityTime:\n",
    "                self.disinfect()\n",
    "            return False\n",
    "                    \n",
    "        if self.classes == Status.INFECTED:\n",
    "                if time - self.infectionTime > self.maxInfectionTime:\n",
    "                    if self.willDie:\n",
    "                        self.classes = Status.DEAD\n",
    "                        return True\n",
    "                    self.immune(time)\n",
    "        return False\n",
    "    \n",
    "    def immune(self, time: int):\n",
    "        self.classes = Status.IMMUNE\n",
    "        self.immunityTime = time\n",
    "        self.infectionTime = 0\n",
    "\n",
    "    \n",
    "    def disinfect(self):\n",
    "        self.classes = Status.HEALTHY\n",
    "        self.infectionTime = 0\n",
    "        self.immunityTime = 0\n",
    "\n",
    "        \n",
    "    def infect(self, infected_time: int):\n",
    "        self.infectionTime = infected_time\n",
    "        self.classes = Status.INFECTED\n",
    "        self.immunityTime = 0\n",
    "        self.willDie = np.random.choice([1,0], 1, p=[self.probDeath, 1-self.probDeath])[0]\n"
   ]
  },
  {
   "cell_type": "markdown",
   "metadata": {},
   "source": [
    "Finally, I create my network. Healthy nodes are indicated in blue, while infected are in red, and immune are in green."
   ]
  },
  {
   "cell_type": "code",
   "execution_count": 7,
   "metadata": {},
   "outputs": [],
   "source": [
    "class Network:\n",
    "    def __init__(self, numNodes: int = 200, \n",
    "                 probEdges: int = 2, \n",
    "                 infectionTime = MyNode.MAX_INFECTED_TIME, \n",
    "                 immunityTime = MyNode.MAX_IMMUNITY_TIME,\n",
    "                 probInfection = 0.2):\n",
    "        self.probInfection = probInfection\n",
    "        self.time = 0\n",
    "        self.numNodes = numNodes\n",
    "        self.infectedNodes = set()\n",
    "            \n",
    "        \n",
    "        mapping = [MyNode(nodeNum = i, maxImmunityTime = immunityTime,\n",
    "                                   maxInfectionTime = infectionTime, probDeath=0) for i in range(numNodes)]\n",
    "        sample_graph = nx.barabasi_albert_graph(numNodes, probEdges)\n",
    "        self.graph = nx.Graph()\n",
    "        for i in range(numNodes):\n",
    "            self.graph.add_node(mapping[i])\n",
    "        for edge in sample_graph.edges:\n",
    "            left = edge[0]\n",
    "            right = edge[1]\n",
    "            self.graph.add_edge(mapping[left], mapping[right])\n",
    "        \n",
    "            \n",
    "    def initializeInfected(self, infected: float = 0.05):\n",
    "        prob = np.random.choice([0,1], self.numNodes, p=[infected, 1-infected])\n",
    "        self.infectedNodes = set()\n",
    "        i = 0\n",
    "        for node in self.graph.nodes:\n",
    "            if prob[i] == 0:\n",
    "                node.infect(0)\n",
    "                self.infectedNodes.add(node)\n",
    "            else:\n",
    "                node.disinfect()\n",
    "            i += 1\n",
    "        self.time = 0\n",
    "            \n",
    "            \n",
    "    def neighbor(self, i: int) -> List[MyNode]:\n",
    "        return self.graph.neighbors(i)\n",
    "    \n",
    "    def simulateOneCycle(self):\n",
    "        self.time = self.time+1\n",
    "        \n",
    "        # first gather the list of nodes which will be infected this cycle\n",
    "        to_be_infected_nodes = set()\n",
    "        for i in self.infectedNodes:\n",
    "            numNeighbor = 0\n",
    "            for x in self.neighbor(i):\n",
    "                numNeighbor += 1\n",
    "            probInfection = np.random.choice([1,0], numNeighbor, \n",
    "                                             p=[self.probInfection, 1 - self.probInfection])\n",
    "            \n",
    "            j = 0\n",
    "            for neighbor in self.neighbor(i):\n",
    "                if probInfection[j]:\n",
    "                    to_be_infected_nodes.add(neighbor) # add probability here\n",
    "                j += 1\n",
    "\n",
    "                \n",
    "        self.infectedNodes = set()\n",
    "        # Now, run the simulation for all nodes, keeping track of newly infected nodes\n",
    "        for node in self.graph.nodes:\n",
    "            if node in to_be_infected_nodes:\n",
    "                node.processCycle(self.time, True)\n",
    "            else:\n",
    "                node.processCycle(self.time, False)\n",
    "            if node.classes == Status.INFECTED:\n",
    "                self.infectedNodes.add(node)\n",
    "        if len(self.infectedNodes) == 0:\n",
    "            return True\n",
    "        return False\n",
    "    \n",
    "    def simulate(self, infected: float = None, delay: int = 500, days: int = 50):\n",
    "        if infected is not None: \n",
    "            x.initializeInfected(infected = infected)\n",
    "        for i in range(days):\n",
    "            time.sleep(delay/1000)\n",
    "            if self.simulateOneCycle():\n",
    "                return i\n",
    "                break\n",
    "        return days\n",
    "        \n",
    "                "
   ]
  },
  {
   "cell_type": "code",
   "execution_count": 8,
   "metadata": {},
   "outputs": [],
   "source": [
    "x = Network(100, probEdges=2, infectionTime=4, immunityTime=6, probInfection=0.1)\n",
    "x.initializeInfected(infected = 0.2)\n"
   ]
  },
  {
   "cell_type": "code",
   "execution_count": 9,
   "metadata": {},
   "outputs": [],
   "source": [
    "widget = ipycytoscape.CytoscapeWidget()\n",
    "widget.set_layout(nodeSpacing=10, animation=False)\n",
    "widget.graph.add_graph_from_networkx(x.graph)\n",
    "widget.set_style([\n",
    "                        {\n",
    "                            'selector': 'node.HEALTHY',\n",
    "                            'css': {\n",
    "                                'background-color': 'blue'\n",
    "                            }\n",
    "                        },\n",
    "                        {\n",
    "                            'selector': 'node.INFECTED',\n",
    "                            'css': {\n",
    "                                'background-color': 'red'\n",
    "                            }\n",
    "                        },\n",
    "                        {\n",
    "                            'selector': 'node.IMMUNE',\n",
    "                            'css': {\n",
    "                                'background-color': 'green'\n",
    "                            }\n",
    "                        }])"
   ]
  },
  {
   "cell_type": "code",
   "execution_count": 10,
   "metadata": {},
   "outputs": [
    {
     "data": {
      "application/vnd.jupyter.widget-view+json": {
       "model_id": "747dbab1814748a1b98c42849588158a",
       "version_major": 2,
       "version_minor": 0
      },
      "text/plain": [
       "CytoscapeWidget(cytoscape_layout={'name': 'cola', 'nodeSpacing': 10, 'animation': False}, cytoscape_style=[{'s…"
      ]
     },
     "metadata": {},
     "output_type": "display_data"
    }
   ],
   "source": [
    "display(widget)"
   ]
  },
  {
   "cell_type": "code",
   "execution_count": 13,
   "metadata": {},
   "outputs": [],
   "source": [
    "i = x.simulate(days=150)"
   ]
  },
  {
   "cell_type": "code",
   "execution_count": 14,
   "metadata": {},
   "outputs": [
    {
     "data": {
      "text/plain": [
       "126"
      ]
     },
     "execution_count": 14,
     "metadata": {},
     "output_type": "execute_result"
    }
   ],
   "source": [
    "i"
   ]
  },
  {
   "cell_type": "markdown",
   "metadata": {},
   "source": [
    "Now, I want to model some more things:\n",
    "1. The probability of someone dying (or leaving this network)\n",
    "2. The probability of birth (or someone new arriving in this network)\n",
    "\n",
    "For simplicity of model, I will assume that each time a new node is added to the network, it is healthy."
   ]
  },
  {
   "cell_type": "code",
   "execution_count": 26,
   "metadata": {},
   "outputs": [],
   "source": [
    "class Network2(Network):\n",
    "    \n",
    "    def __init__(self, numNodes: int = 200, \n",
    "                 probEdges: float = 0.02, \n",
    "                 infectionTime = MyNode.MAX_INFECTED_TIME, \n",
    "                 immunityTime = MyNode.MAX_IMMUNITY_TIME,\n",
    "                 probDeath = 0.2,\n",
    "                 probBirth = 0.2,\n",
    "                 probInfection = 0.2):\n",
    "        self.probInfection = probInfection\n",
    "        self.time = 0\n",
    "        self.numNodes = numNodes\n",
    "        self.infectedNodes = set()\n",
    "            \n",
    "        \n",
    "        mapping = [MyNode(nodeNum = i, maxImmunityTime = immunityTime,\n",
    "                                   maxInfectionTime = infectionTime, probDeath=probDeath) for i in range(numNodes)]\n",
    "        sample_graph = nx.barabasi_albert_graph(numNodes, probEdges)\n",
    "        self.graph = nx.Graph()\n",
    "        for i in range(numNodes):\n",
    "            self.graph.add_node(mapping[i])\n",
    "        for edge in sample_graph.edges:\n",
    "            left = edge[0]\n",
    "            right = edge[1]\n",
    "            self.graph.add_edge(mapping[left], mapping[right])\n",
    "        \n",
    "        \n",
    "    def simulateOneCycle(self, widget):\n",
    "        self.time = self.time+1\n",
    "        \n",
    "        # first gather the list of nodes which will be infected this cycle\n",
    "        to_be_infected_nodes = set()\n",
    "        for i in self.infectedNodes:\n",
    "            numNeighbor = 0\n",
    "            for x in self.neighbor(i):\n",
    "                numNeighbor += 1\n",
    "            probInfection = np.random.choice([1,0], numNeighbor, \n",
    "                                             p=[self.probInfection, 1 - self.probInfection])\n",
    "            \n",
    "            j = 0\n",
    "            for neighbor in self.neighbor(i):\n",
    "                if probInfection[j]:\n",
    "                    to_be_infected_nodes.add(neighbor) # add probability here\n",
    "                j += 1\n",
    "\n",
    "                \n",
    "        self.infectedNodes = set()\n",
    "        # Now, run the simulation for all nodes, keeping track of newly infected nodes and removing and adding nodes\n",
    "        deadNodes = []\n",
    "        for node in self.graph.nodes:\n",
    "            isDead = node.processCycle(self.time, node in to_be_infected_nodes)\n",
    "            if isDead:\n",
    "                deadNodes.append(node)\n",
    "            if node.classes is Status.INFECTED and not isDead:\n",
    "                self.infectedNodes.add(node)\n",
    "        \n",
    "        # remove the dead nodes now\n",
    "        for node in deadNodes:\n",
    "            print(\"Removing node\", node.data[\"id\"])\n",
    "            self.graph.remove_node(node)\n",
    "            widget.graph.remove_node(node)\n",
    "        if len(self.infectedNodes) == 0:\n",
    "            return True\n",
    "        return False\n",
    "    def simulate(self, widget, infected: float = None, delay: int = 500, days: int = 50):\n",
    "        if infected is not None: \n",
    "            x.initializeInfected(infected = infected)\n",
    "        for i in range(days):\n",
    "            time.sleep(delay/1000)\n",
    "            if self.simulateOneCycle(widget):\n",
    "                return i\n",
    "                break\n",
    "        return days\n",
    "            "
   ]
  },
  {
   "cell_type": "code",
   "execution_count": 60,
   "metadata": {},
   "outputs": [
    {
     "data": {
      "application/vnd.jupyter.widget-view+json": {
       "model_id": "05d93dcc0e814938815b17ff5283bbd0",
       "version_major": 2,
       "version_minor": 0
      },
      "text/plain": [
       "CytoscapeWidget(cytoscape_layout={'name': 'cola', 'nodeSpacing': 10, 'animate': False}, cytoscape_style=[{'sel…"
      ]
     },
     "metadata": {},
     "output_type": "display_data"
    }
   ],
   "source": [
    "x = Network2(100, probEdges=2, infectionTime=2, immunityTime=11, probInfection=0.3, probDeath=0.2, probBirth=0)\n",
    "x.initializeInfected(infected = 0.1)\n",
    "widget = ipycytoscape.CytoscapeWidget()\n",
    "widget.set_layout(nodeSpacing=10, animate=False)\n",
    "widget.graph.add_graph_from_networkx(x.graph)\n",
    "widget.set_style([\n",
    "                        {\n",
    "                            'selector': 'node.HEALTHY',\n",
    "                            'css': {\n",
    "                                'background-color': 'blue'\n",
    "                            }\n",
    "                        },\n",
    "                        {\n",
    "                            'selector': 'node.INFECTED',\n",
    "                            'css': {\n",
    "                                'background-color': 'red'\n",
    "                            }\n",
    "                        },\n",
    "                        {\n",
    "                            'selector': 'node.IMMUNE',\n",
    "                            'css': {\n",
    "                                'background-color': 'green'\n",
    "                            }\n",
    "                        }])\n",
    "display(widget)"
   ]
  },
  {
   "cell_type": "code",
   "execution_count": 61,
   "metadata": {},
   "outputs": [
    {
     "name": "stdout",
     "output_type": "stream",
     "text": [
      "Removing node 47\n",
      "Removing node 48\n",
      "Removing node 72\n",
      "Removing node 92\n",
      "Removing node 60\n",
      "Removing node 6\n",
      "Removing node 71\n",
      "Removing node 74\n",
      "Removing node 3\n",
      "Removing node 43\n",
      "Removing node 63\n",
      "Removing node 79\n",
      "Removing node 85\n",
      "Removing node 31\n",
      "Removing node 29\n",
      "Removing node 38\n",
      "Removing node 62\n",
      "Removing node 89\n",
      "Removing node 19\n"
     ]
    }
   ],
   "source": [
    "i = x.simulate(widget)"
   ]
  },
  {
   "cell_type": "code",
   "execution_count": 62,
   "metadata": {},
   "outputs": [
    {
     "data": {
      "text/plain": [
       "81"
      ]
     },
     "execution_count": 62,
     "metadata": {},
     "output_type": "execute_result"
    }
   ],
   "source": [
    "len(x.graph.nodes.items())"
   ]
  },
  {
   "cell_type": "code",
   "execution_count": 63,
   "metadata": {},
   "outputs": [
    {
     "data": {
      "text/plain": [
       "13"
      ]
     },
     "execution_count": 63,
     "metadata": {},
     "output_type": "execute_result"
    }
   ],
   "source": [
    "i"
   ]
  }
 ],
 "metadata": {
  "kernelspec": {
   "display_name": "Python 3",
   "language": "python",
   "name": "python3"
  },
  "language_info": {
   "codemirror_mode": {
    "name": "ipython",
    "version": 3
   },
   "file_extension": ".py",
   "mimetype": "text/x-python",
   "name": "python",
   "nbconvert_exporter": "python",
   "pygments_lexer": "ipython3",
   "version": "3.8.5"
  }
 },
 "nbformat": 4,
 "nbformat_minor": 4
}
