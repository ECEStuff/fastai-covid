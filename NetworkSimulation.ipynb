{
 "cells": [
  {
   "cell_type": "markdown",
   "metadata": {},
   "source": [
    "# Simulation of infection spreads in a network"
   ]
  },
  {
   "cell_type": "markdown",
   "metadata": {},
   "source": [
    "This demo will run a simulation in how an infection can spread in a small network.\n",
    "\n",
    "Initial idea: model the people as a graph. This limits the direct neighbors to 8, but we will change this assumption later on. Also, populate the matrix randomly."
   ]
  },
  {
   "cell_type": "markdown",
   "metadata": {},
   "source": [
    "Couple of assumptions:\n",
    "1. Once a node is infected, it is cured after *d* days, unless it dies.\n",
    "2. Once a node is cured after being infected, it has immunity to infection till *n* days.\n",
    "3. Once infected, a node has 0.03 probability of death. To simplify things, I will assume death happens in 14 days as well.\n",
    "4. Nodes don't move.\n",
    "5. Every turn of the simulation marks one day."
   ]
  },
  {
   "cell_type": "code",
   "execution_count": 1,
   "metadata": {},
   "outputs": [],
   "source": [
    "import numpy as np\n",
    "import matplotlib.pyplot as plot\n",
    "from typing import Callable, Iterator, Union, Optional, List\n",
    "import networkx as nx\n",
    "\n",
    "%matplotlib inline\n",
    "import time"
   ]
  },
  {
   "cell_type": "markdown",
   "metadata": {},
   "source": [
    "I use `ipycytoscape` as my visualization library, which will allow me to interact with graphs directly"
   ]
  },
  {
   "cell_type": "code",
   "execution_count": 2,
   "metadata": {},
   "outputs": [],
   "source": [
    "import ipycytoscape\n",
    "import ipywidgets as widgets"
   ]
  },
  {
   "cell_type": "markdown",
   "metadata": {},
   "source": [
    "I keep a `Status` enum to denote node health"
   ]
  },
  {
   "cell_type": "code",
   "execution_count": 3,
   "metadata": {},
   "outputs": [],
   "source": [
    "class Status:\n",
    "    HEALTHY = 'HEALTHY'   # will be in blue\n",
    "    IMMUNE = 'IMMUNE'     # will be in green\n",
    "    INFECTED = 'INFECTED' # will be in red\n",
    "    DEAD = 'DEAD'         # will be greyed out\n",
    "\n",
    "css_style = [\n",
    "                        {\n",
    "                            'selector': 'node.HEALTHY',\n",
    "                            'css': {\n",
    "                                'background-color': 'blue'\n",
    "                            }\n",
    "                        },\n",
    "                        {\n",
    "                            'selector': 'node.INFECTED',\n",
    "                            'css': {\n",
    "                                'background-color': 'red'\n",
    "                            }\n",
    "                        },\n",
    "                        {\n",
    "                            'selector': 'node.IMMUNE',\n",
    "                            'css': {\n",
    "                                'background-color': 'green'\n",
    "                            }\n",
    "                        }]"
   ]
  },
  {
   "cell_type": "markdown",
   "metadata": {},
   "source": [
    "For my `Node` class, I keep a simple structure. I keep track of the current \"health\" of the node, and keep two counters to keep track of infection and immunity time. I also model whethere the node will die from getting an infection."
   ]
  },
  {
   "cell_type": "code",
   "execution_count": 4,
   "metadata": {},
   "outputs": [],
   "source": [
    "class MyNode(ipycytoscape.Node):\n",
    "    MAX_IMMUNITY_TIME = 4\n",
    "    MAX_INFECTED_TIME = 2\n",
    "    PROB_DEATH = 0\n",
    "    def __init__(self,\n",
    "                 nodeNum: int,\n",
    "                 maxImmunityTime: int, \n",
    "                 maxInfectionTime: int,\n",
    "                 probDeath: int,\n",
    "                 status: Status = Status.HEALTHY):\n",
    "        super().__init__()\n",
    "        self.data['id'] = nodeNum\n",
    "        self.maxImmunityTime = maxImmunityTime\n",
    "        self.maxInfectionTime = maxInfectionTime\n",
    "        self.probDeath = probDeath\n",
    "        self.classes = status\n",
    "        self.infectionTime = 0\n",
    "        self.immunityTime = 0\n",
    "        self.willDie = 0\n",
    "        \n",
    "    def __str__(self):\n",
    "        temp = super().__str__()\n",
    "        return f\"super: {temp}, infectionTime: {self.infectionTime}, immunityTime: {self.immunityTime}, willDie: {self.willDie}\"\n",
    "    \n",
    "    def processCycle(self, time: int, infect: bool) -> bool:\n",
    "        \"\"\"\n",
    "        infect is kind of like a signal that the node receives at time t.\n",
    "        It denotes whether the node will be infected in this cycle or not.\n",
    "        If node is already infected or immune, this won't have any effect.\n",
    "        \n",
    "        This function returns True if the node was infected and died\n",
    "        and false if it is still alive\n",
    "        \"\"\"\n",
    "        if self.classes == Status.DEAD:\n",
    "            return True\n",
    "        if infect:\n",
    "            if self.classes == Status.HEALTHY:\n",
    "                self.infect(time)\n",
    "            return False\n",
    "\n",
    "        if self.classes == Status.IMMUNE:\n",
    "            if time - self.immunityTime > self.maxImmunityTime:\n",
    "                self.disinfect()\n",
    "            return False\n",
    "\n",
    "        if self.classes == Status.INFECTED:\n",
    "                if time - self.infectionTime > self.maxInfectionTime:\n",
    "                    if self.willDie:\n",
    "                        self.classes = Status.DEAD\n",
    "                        return True\n",
    "                    self.immune(time)\n",
    "        return False\n",
    "    \n",
    "    def immune(self, time: int):\n",
    "        self.classes = Status.IMMUNE\n",
    "        self.immunityTime = time\n",
    "        self.infectionTime = 0\n",
    "\n",
    "    \n",
    "    def disinfect(self):\n",
    "        self.classes = Status.HEALTHY\n",
    "        self.infectionTime = 0\n",
    "        self.immunityTime = 0\n",
    "\n",
    "        \n",
    "    def infect(self, infected_time: int):\n",
    "        self.infectionTime = infected_time\n",
    "        self.classes = Status.INFECTED\n",
    "        self.immunityTime = 0\n",
    "        self.willDie = np.random.choice([1,0], 1, p=[self.probDeath, 1-self.probDeath])[0]\n"
   ]
  },
  {
   "cell_type": "markdown",
   "metadata": {},
   "source": [
    "Finally, I create my network. Healthy nodes are indicated in blue, while infected are in red, and immune are in green."
   ]
  },
  {
   "attachments": {
    "image.png": {
     "image/png": "[encoded data removed]"
    }
   },
   "cell_type": "markdown",
   "metadata": {},
   "source": [
    "For my network, I use the **Barbasi-Albert** model. I tried several others as well (Erdős–Rényi, Watts–Strogatz, but settled on this one in the end due to its closeness to real world networks).\n",
    "\n",
    "In this model, the probability p(i) that the new node is connected to node i is:\n",
    "\n",
    "    p(i) = k(i)/(∑ k(j))\n",
    "\n",
    "where k(i) is the degree of node i and the sum is made over all pre-existing nodes j (i.e. the denominator results in twice the current number of edges in the network).\n",
    "\n",
    "Essentially, this graph follows the small world property and has the power law that is present for real world networks. (It is similar to the example of chinese restaurant.)\n",
    "\n",
    "![image.png](attachment:image.png)"
   ]
  },
  {
   "cell_type": "markdown",
   "metadata": {},
   "source": [
    "The main part of the code is the `simulateOneCycle`. This is a method which can easily be parallelized (though I haven't done it here). It basically iterates over the infected nodes, and tries to infect the neighboring nodes."
   ]
  },
  {
   "cell_type": "code",
   "execution_count": 5,
   "metadata": {},
   "outputs": [],
   "source": [
    "class Network:\n",
    "    def __init__(self, numNodes: int = 200, \n",
    "                 probEdges: int = 2, \n",
    "                 infectionTime = MyNode.MAX_INFECTED_TIME, \n",
    "                 immunityTime = MyNode.MAX_IMMUNITY_TIME,\n",
    "                 probInfection = 0.2):\n",
    "        self.probInfection = probInfection\n",
    "        self.time = 0\n",
    "        self.numNodes = numNodes\n",
    "        self.infectedNodes = set()\n",
    "            \n",
    "        \n",
    "        mapping = [MyNode(nodeNum = i, maxImmunityTime = immunityTime,\n",
    "                                   maxInfectionTime = infectionTime, probDeath=0) for i in range(numNodes)]\n",
    "        sample_graph = nx.barabasi_albert_graph(numNodes, probEdges)\n",
    "        self.graph = nx.Graph()\n",
    "        for i in range(numNodes):\n",
    "            self.graph.add_node(mapping[i])\n",
    "        for edge in sample_graph.edges:\n",
    "            left = edge[0]\n",
    "            right = edge[1]\n",
    "            self.graph.add_edge(mapping[left], mapping[right])\n",
    "        \n",
    "            \n",
    "    def initializeInfected(self, infected: float = 0.05):\n",
    "        prob = np.random.choice([0,1], self.numNodes, p=[infected, 1-infected])\n",
    "        self.infectedNodes = set()\n",
    "        i = 0\n",
    "        for node in self.graph.nodes:\n",
    "            if prob[i] == 0:\n",
    "                node.infect(0)\n",
    "                self.infectedNodes.add(node)\n",
    "            else:\n",
    "                node.disinfect()\n",
    "            i += 1\n",
    "        self.time = 0\n",
    "            \n",
    "            \n",
    "    def neighbor(self, i: int) -> List[MyNode]:\n",
    "        return self.graph.neighbors(i)\n",
    "    \n",
    "    def simulateOneCycle(self):\n",
    "        self.time = self.time+1\n",
    "        \n",
    "        # first gather the list of nodes which will be infected this cycle\n",
    "        to_be_infected_nodes = set()\n",
    "        for i in self.infectedNodes:\n",
    "            numNeighbor = 0\n",
    "            for x in self.neighbor(i):\n",
    "                numNeighbor += 1\n",
    "            probInfection = np.random.choice([1,0], numNeighbor, \n",
    "                                             p=[self.probInfection, 1 - self.probInfection])\n",
    "            \n",
    "            j = 0\n",
    "            for neighbor in self.neighbor(i):\n",
    "                if probInfection[j]:\n",
    "                    to_be_infected_nodes.add(neighbor) # add probability here\n",
    "                j += 1\n",
    "\n",
    "                \n",
    "        self.infectedNodes = set()\n",
    "        # Now, run the simulation for all nodes, keeping track of newly infected nodes\n",
    "        for node in self.graph.nodes:\n",
    "            if node in to_be_infected_nodes:\n",
    "                node.processCycle(self.time, True)\n",
    "            else:\n",
    "                node.processCycle(self.time, False)\n",
    "            if node.classes == Status.INFECTED:\n",
    "                self.infectedNodes.add(node)\n",
    "        if len(self.infectedNodes) == 0:\n",
    "            return True\n",
    "        return False\n",
    "    \n",
    "    def simulate(self, infected: float = None, delay: int = 500, days: int = 50):\n",
    "        if infected is not None: \n",
    "            x.initializeInfected(infected = infected)\n",
    "        for i in range(days):\n",
    "            time.sleep(delay/1000)\n",
    "            if self.simulateOneCycle():\n",
    "                return i\n",
    "                break\n",
    "        return days\n",
    "        \n",
    "                "
   ]
  },
  {
   "cell_type": "code",
   "execution_count": null,
   "metadata": {},
   "outputs": [],
   "source": [
    "x = Network(100, probEdges=2, infectionTime=4, immunityTime=6, probInfection=0.1)\n",
    "x.initializeInfected(infected = 0.2)\n"
   ]
  },
  {
   "cell_type": "code",
   "execution_count": 7,
   "metadata": {},
   "outputs": [],
   "source": [
    "widget = ipycytoscape.CytoscapeWidget()\n",
    "widget.set_layout(nodeSpacing=10, animation=False)\n",
    "widget.graph.add_graph_from_networkx(x.graph)\n",
    "widget.set_style(css_style)"
   ]
  },
  {
   "cell_type": "code",
   "execution_count": 8,
   "metadata": {},
   "outputs": [
    {
     "data": {
      "application/vnd.jupyter.widget-view+json": {
       "model_id": "56e5213a7aed4a2cbe995ed5fe62851f",
       "version_major": 2,
       "version_minor": 0
      },
      "text/plain": [
       "CytoscapeWidget(cytoscape_layout={'name': 'cola', 'nodeSpacing': 10, 'animation': False}, cytoscape_style=[{'s…"
      ]
     },
     "metadata": {},
     "output_type": "display_data"
    }
   ],
   "source": [
    "display(widget)"
   ]
  },
  {
   "cell_type": "code",
   "execution_count": 9,
   "metadata": {},
   "outputs": [],
   "source": [
    "i = x.simulate(days=150)"
   ]
  },
  {
   "cell_type": "code",
   "execution_count": 10,
   "metadata": {},
   "outputs": [
    {
     "data": {
      "text/plain": [
       "20"
      ]
     },
     "execution_count": 10,
     "metadata": {},
     "output_type": "execute_result"
    }
   ],
   "source": [
    "i"
   ]
  },
  {
   "cell_type": "markdown",
   "metadata": {},
   "source": [
    "Now, I want to model some more things:\n",
    "1. The probability of someone dying (or leaving this network)\n",
    "2. ~The probability of birth (or someone new arriving in this network)~\n",
    "\n",
    "For simplicity of model, I will assume that each time a new node is added to the network, it is healthy."
   ]
  },
  {
   "cell_type": "code",
   "execution_count": 6,
   "metadata": {},
   "outputs": [],
   "source": [
    "class Network2(Network):\n",
    "    \n",
    "    def __init__(self, numNodes: int = 200, \n",
    "                 probEdges: float = 0.02, \n",
    "                 infectionTime = MyNode.MAX_INFECTED_TIME, \n",
    "                 immunityTime = MyNode.MAX_IMMUNITY_TIME,\n",
    "                 probDeath = 0.2,\n",
    "                 probBirth = 0.2,\n",
    "                 probInfection = 0.2):\n",
    "        self.probInfection = probInfection\n",
    "        self.time = 0\n",
    "        self.numNodes = numNodes\n",
    "        self.infectedNodes = set()\n",
    "            \n",
    "        \n",
    "        mapping = [MyNode(nodeNum = i, maxImmunityTime = immunityTime,\n",
    "                                   maxInfectionTime = infectionTime, probDeath=probDeath) for i in range(numNodes)]\n",
    "        sample_graph = nx.barabasi_albert_graph(numNodes, probEdges)\n",
    "        self.graph = nx.Graph()\n",
    "        for i in range(numNodes):\n",
    "            self.graph.add_node(mapping[i])\n",
    "        for edge in sample_graph.edges:\n",
    "            left = edge[0]\n",
    "            right = edge[1]\n",
    "            self.graph.add_edge(mapping[left], mapping[right])\n",
    "        \n",
    "    def initializeInfected(self, infected: float = 0.05):\n",
    "        prob = np.random.choice([0,1], self.numNodes, p=[infected, 1-infected])\n",
    "        self.infectedNodes = set()\n",
    "        i = 0\n",
    "        for node in self.graph.nodes:\n",
    "            if prob[i] == 0:\n",
    "                node.infect(0)\n",
    "                self.infectedNodes.add(node)\n",
    "            else:\n",
    "                node.disinfect()\n",
    "            i += 1\n",
    "        self.time = 0\n",
    "            \n",
    "            \n",
    "    def neighbor(self, i: int) -> List[MyNode]:\n",
    "        return self.graph.neighbors(i)\n",
    "    \n",
    "    def simulateOneCycle(self):\n",
    "        self.time = self.time+1\n",
    "        \n",
    "        # first gather the list of nodes which will be infected this cycle\n",
    "        to_be_infected_nodes = set()\n",
    "        for i in self.infectedNodes:\n",
    "            numNeighbor = 0\n",
    "            for x in self.neighbor(i):\n",
    "                numNeighbor += 1\n",
    "            probInfection = np.random.choice([1,0], numNeighbor, \n",
    "                                             p=[self.probInfection, 1 - self.probInfection])\n",
    "            \n",
    "            j = 0\n",
    "            for neighbor in self.neighbor(i):\n",
    "                if probInfection[j]:\n",
    "                    to_be_infected_nodes.add(neighbor) # add probability here\n",
    "                j += 1\n",
    "\n",
    "                \n",
    "        self.infectedNodes = set()\n",
    "        # Now, run the simulation for all nodes, keeping track of newly infected nodes and removing and adding nodes\n",
    "        deadNodes = []\n",
    "        for node in self.graph.nodes:\n",
    "            isDead = node.processCycle(self.time, node in to_be_infected_nodes)\n",
    "            if isDead:\n",
    "                deadNodes.append(node)\n",
    "            if node.classes is Status.INFECTED and not isDead:\n",
    "                self.infectedNodes.add(node)\n",
    "        \n",
    "        # remove the dead nodes now\n",
    "        for node in deadNodes:\n",
    "#             print(\"Removing node\", node.data[\"id\"])\n",
    "            self.graph.remove_node(node)\n",
    "    \n",
    "        # add the new nodes\n",
    "        if len(self.infectedNodes) == 0:\n",
    "            return True\n",
    "        return False\n",
    "    \n",
    "    def simulate(self, infected: float = None, delay: int = 500, days: int = 50):\n",
    "        if infected is not None: \n",
    "            x.initializeInfected(infected = infected)\n",
    "        days_taken = 0\n",
    "        for i in range(days):\n",
    "            time.sleep(20/1000)\n",
    "            if self.simulateOneCycle():\n",
    "                return i, self.numNodes - len(x.graph.nodes.items()), True\n",
    "                break\n",
    "        days_taken = i\n",
    "        return days, self.numNodes - len(x.graph.nodes.items()), False\n",
    "            "
   ]
  },
  {
   "cell_type": "code",
   "execution_count": 49,
   "metadata": {},
   "outputs": [],
   "source": [
    "result = []\n",
    "for i in range(20):\n",
    "    x = Network2(200, probEdges=2, infectionTime=4, immunityTime=12, probInfection=0.6, probDeath=0.1, probBirth=0)\n",
    "    x.initializeInfected(infected = 0.1)\n",
    "    result.append(x.simulate(days=200))\n",
    "m[0.6] = result"
   ]
  },
  {
   "cell_type": "code",
   "execution_count": 39,
   "metadata": {
    "scrolled": true
   },
   "outputs": [
    {
     "name": "stdout",
     "output_type": "stream",
     "text": [
      "simulation 0\n",
      "simulation 1\n",
      "simulation 2\n",
      "simulation 3\n",
      "simulation 4\n",
      "simulation 5\n",
      "simulation 6\n",
      "simulation 7\n",
      "simulation 8\n",
      "simulation 9\n",
      "simulation 10\n",
      "simulation 11\n",
      "simulation 12\n",
      "simulation 13\n",
      "simulation 14\n",
      "simulation 15\n",
      "simulation 16\n",
      "simulation 17\n",
      "simulation 18\n",
      "simulation 19\n",
      "simulation 0\n",
      "simulation 1\n",
      "simulation 2\n",
      "simulation 3\n",
      "simulation 4\n",
      "simulation 5\n",
      "simulation 6\n",
      "simulation 7\n",
      "simulation 8\n",
      "simulation 9\n",
      "simulation 10\n",
      "simulation 11\n",
      "simulation 12\n",
      "simulation 13\n",
      "simulation 14\n",
      "simulation 15\n",
      "simulation 16\n",
      "simulation 17\n",
      "simulation 18\n",
      "simulation 19\n",
      "simulation 0\n",
      "simulation 1\n",
      "simulation 2\n",
      "simulation 3\n",
      "simulation 4\n",
      "simulation 5\n",
      "simulation 6\n",
      "simulation 7\n",
      "simulation 8\n",
      "simulation 9\n",
      "simulation 10\n",
      "simulation 11\n",
      "simulation 12\n",
      "simulation 13\n",
      "simulation 14\n",
      "simulation 15\n",
      "simulation 16\n",
      "simulation 17\n",
      "simulation 18\n",
      "simulation 19\n",
      "simulation 0\n",
      "simulation 1\n",
      "simulation 2\n",
      "simulation 3\n",
      "simulation 4\n",
      "simulation 5\n",
      "simulation 6\n",
      "simulation 7\n",
      "simulation 8\n",
      "simulation 9\n",
      "simulation 10\n",
      "simulation 11\n",
      "simulation 12\n",
      "simulation 13\n",
      "simulation 14\n",
      "simulation 15\n",
      "simulation 16\n",
      "simulation 17\n",
      "simulation 18\n",
      "simulation 19\n",
      "simulation 0\n",
      "simulation 1\n",
      "simulation 2\n",
      "simulation 3\n",
      "simulation 4\n",
      "simulation 5\n",
      "simulation 6\n",
      "simulation 7\n",
      "simulation 8\n",
      "simulation 9\n",
      "simulation 10\n",
      "simulation 11\n",
      "simulation 12\n",
      "simulation 13\n",
      "simulation 14\n",
      "simulation 15\n",
      "simulation 16\n",
      "simulation 17\n",
      "simulation 18\n",
      "simulation 19\n"
     ]
    }
   ],
   "source": [
    "probs = [0.05, 0.1, 0.2, 0.4, 0.6]\n",
    "m = {}\n",
    "for k in probs:\n",
    "    result = []\n",
    "    for i in range(20):\n",
    "        print(\"simulation \" + str(i))\n",
    "        x = Network2(200, probEdges=2, infectionTime=4, immunityTime=12, probInfection=k, probDeath=0.1, probBirth=0)\n",
    "        x.initializeInfected(infected = 0.1)\n",
    "        result.append(x.simulate(days=100))\n",
    "    m[k] = result"
   ]
  },
  {
   "cell_type": "code",
   "execution_count": 50,
   "metadata": {},
   "outputs": [
    {
     "data": {
      "text/plain": [
       "{0.05: [(16, 10, True),\n",
       "  (25, 6, True),\n",
       "  (18, 7, True),\n",
       "  (23, 8, True),\n",
       "  (18, 12, True),\n",
       "  (20, 5, True),\n",
       "  (19, 11, True),\n",
       "  (36, 14, True),\n",
       "  (29, 9, True),\n",
       "  (26, 9, True),\n",
       "  (22, 5, True),\n",
       "  (22, 5, True),\n",
       "  (17, 14, True),\n",
       "  (19, 10, True),\n",
       "  (20, 5, True),\n",
       "  (23, 10, True),\n",
       "  (24, 11, True),\n",
       "  (38, 7, True),\n",
       "  (26, 9, True),\n",
       "  (23, 7, True)],\n",
       " 0.1: [(34, 16, True),\n",
       "  (100, 39, False),\n",
       "  (25, 13, True),\n",
       "  (21, 19, True),\n",
       "  (22, 11, True),\n",
       "  (20, 12, True),\n",
       "  (17, 22, True),\n",
       "  (18, 18, True),\n",
       "  (22, 16, True),\n",
       "  (20, 11, True),\n",
       "  (19, 21, True),\n",
       "  (23, 12, True),\n",
       "  (92, 34, True),\n",
       "  (26, 10, True),\n",
       "  (23, 20, True),\n",
       "  (19, 21, True),\n",
       "  (17, 22, True),\n",
       "  (23, 11, True),\n",
       "  (24, 16, True),\n",
       "  (19, 11, True)],\n",
       " 0.2: [(15, 18, True),\n",
       "  (16, 25, True),\n",
       "  (15, 19, True),\n",
       "  (15, 23, True),\n",
       "  (17, 15, True),\n",
       "  (22, 16, True),\n",
       "  (16, 16, True),\n",
       "  (18, 21, True),\n",
       "  (17, 15, True),\n",
       "  (17, 16, True),\n",
       "  (20, 19, True),\n",
       "  (17, 15, True),\n",
       "  (17, 18, True),\n",
       "  (17, 15, True),\n",
       "  (17, 26, True),\n",
       "  (20, 26, True),\n",
       "  (15, 26, True),\n",
       "  (15, 25, True),\n",
       "  (19, 23, True),\n",
       "  (15, 21, True)],\n",
       " 0.4: [(17, 26, True),\n",
       "  (19, 12, True),\n",
       "  (77, 49, True),\n",
       "  (20, 10, True),\n",
       "  (16, 23, True),\n",
       "  (19, 19, True),\n",
       "  (25, 11, True),\n",
       "  (23, 23, True),\n",
       "  (18, 14, True),\n",
       "  (75, 43, True),\n",
       "  (18, 20, True),\n",
       "  (18, 17, True),\n",
       "  (18, 15, True),\n",
       "  (17, 19, True),\n",
       "  (19, 15, True),\n",
       "  (23, 19, True),\n",
       "  (100, 70, False),\n",
       "  (100, 69, False),\n",
       "  (50, 34, True),\n",
       "  (54, 45, True)],\n",
       " 0.6: [(200, 102, False),\n",
       "  (200, 102, False),\n",
       "  (200, 89, False),\n",
       "  (200, 106, False),\n",
       "  (200, 111, False),\n",
       "  (200, 109, False),\n",
       "  (200, 108, False),\n",
       "  (200, 94, False),\n",
       "  (200, 104, False),\n",
       "  (200, 95, False),\n",
       "  (200, 97, False),\n",
       "  (200, 103, False),\n",
       "  (200, 94, False),\n",
       "  (200, 94, False),\n",
       "  (200, 102, False),\n",
       "  (200, 109, False),\n",
       "  (200, 91, False),\n",
       "  (200, 109, False),\n",
       "  (200, 98, False),\n",
       "  (200, 102, False)]}"
      ]
     },
     "execution_count": 50,
     "metadata": {},
     "output_type": "execute_result"
    }
   ],
   "source": [
    "m"
   ]
  },
  {
   "cell_type": "code",
   "execution_count": 53,
   "metadata": {},
   "outputs": [],
   "source": [
    "x = m[0.6]"
   ]
  },
  {
   "cell_type": "code",
   "execution_count": 55,
   "metadata": {},
   "outputs": [],
   "source": [
    "del m[0.6]"
   ]
  },
  {
   "cell_type": "code",
   "execution_count": 64,
   "metadata": {},
   "outputs": [
    {
     "data": {
      "image/png": "[encoded data removed]",
      "text/plain": [
       "<Figure size 432x288 with 1 Axes>"
      ]
     },
     "metadata": {
      "needs_background": "light"
     },
     "output_type": "display_data"
    }
   ],
   "source": [
    "for k in m:\n",
    "    result = m[k]\n",
    "    days, y, lasd = zip(*result)\n",
    "    dead = [d/2 for d in y]\n",
    "    plot.scatter(days, dead, label=str(k))\n",
    "    plot.legend()\n",
    "    plot.xlabel(\"Days till infection settles\")\n",
    "    plot.ylabel(\"Percentage of population dead\")"
   ]
  },
  {
   "cell_type": "code",
   "execution_count": 8,
   "metadata": {
    "scrolled": true
   },
   "outputs": [
    {
     "name": "stdout",
     "output_type": "stream",
     "text": [
      "simulation 0\n",
      "simulation 1\n",
      "simulation 2\n",
      "simulation 3\n",
      "simulation 4\n",
      "simulation 5\n",
      "simulation 6\n",
      "simulation 7\n",
      "simulation 8\n",
      "simulation 9\n",
      "simulation 10\n",
      "simulation 11\n",
      "simulation 12\n",
      "simulation 13\n",
      "simulation 14\n",
      "simulation 15\n",
      "simulation 16\n",
      "simulation 17\n",
      "simulation 18\n",
      "simulation 19\n",
      "simulation 0\n",
      "simulation 1\n",
      "simulation 2\n",
      "simulation 3\n",
      "simulation 4\n",
      "simulation 5\n",
      "simulation 6\n",
      "simulation 7\n",
      "simulation 8\n",
      "simulation 9\n",
      "simulation 10\n",
      "simulation 11\n",
      "simulation 12\n",
      "simulation 13\n",
      "simulation 14\n",
      "simulation 15\n",
      "simulation 16\n",
      "simulation 17\n",
      "simulation 18\n",
      "simulation 19\n",
      "simulation 0\n",
      "simulation 1\n",
      "simulation 2\n",
      "simulation 3\n",
      "simulation 4\n",
      "simulation 5\n",
      "simulation 6\n",
      "simulation 7\n",
      "simulation 8\n",
      "simulation 9\n",
      "simulation 10\n",
      "simulation 11\n",
      "simulation 12\n",
      "simulation 13\n",
      "simulation 14\n",
      "simulation 15\n",
      "simulation 16\n",
      "simulation 17\n",
      "simulation 18\n",
      "simulation 19\n",
      "simulation 0\n",
      "simulation 1\n",
      "simulation 2\n",
      "simulation 3\n",
      "simulation 4\n",
      "simulation 5\n",
      "simulation 6\n",
      "simulation 7\n",
      "simulation 8\n",
      "simulation 9\n",
      "simulation 10\n",
      "simulation 11\n",
      "simulation 12\n",
      "simulation 13\n",
      "simulation 14\n",
      "simulation 15\n",
      "simulation 16\n",
      "simulation 17\n",
      "simulation 18\n",
      "simulation 19\n",
      "simulation 0\n",
      "simulation 1\n",
      "simulation 2\n",
      "simulation 3\n",
      "simulation 4\n",
      "simulation 5\n",
      "simulation 6\n",
      "simulation 7\n",
      "simulation 8\n",
      "simulation 9\n",
      "simulation 10\n",
      "simulation 11\n",
      "simulation 12\n",
      "simulation 13\n",
      "simulation 14\n",
      "simulation 15\n",
      "simulation 16\n",
      "simulation 17\n",
      "simulation 18\n",
      "simulation 19\n"
     ]
    }
   ],
   "source": [
    "prob_dead = [0.01, 0.05, 0.1, 0.15, 0.2]\n",
    "m_dead = {}\n",
    "for k in prob_dead:\n",
    "    result = []\n",
    "    for i in range(20):\n",
    "        print(\"simulation \" + str(i))\n",
    "        x = Network2(200, probEdges=2, infectionTime=4, immunityTime=12, probInfection=0.2, probDeath=k, probBirth=0)\n",
    "        x.initializeInfected(infected = 0.1)\n",
    "        result.append(x.simulate(days=100))\n",
    "    m_dead[k] = result"
   ]
  },
  {
   "cell_type": "code",
   "execution_count": 24,
   "metadata": {},
   "outputs": [
    {
     "data": {
      "image/png": "[encoded data removed]",
      "text/plain": [
       "<Figure size 432x288 with 1 Axes>"
      ]
     },
     "metadata": {
      "needs_background": "light"
     },
     "output_type": "display_data"
    }
   ],
   "source": [
    "for k in m_dead:\n",
    "    result = m_dead[k]\n",
    "    days, y, lasd = zip(*result)\n",
    "    days = sorted(days)\n",
    "    dead = [d/2 for d in y]\n",
    "    plot.plot(days, dead, label=str(k))\n",
    "    plot.scatter(days, dead)\n",
    "    plot.legend()\n",
    "    plot.xlabel(\"Days till infection settles\")\n",
    "    plot.ylabel(\"Percentage of population dead\")"
   ]
  },
  {
   "cell_type": "code",
   "execution_count": 25,
   "metadata": {},
   "outputs": [
    {
     "name": "stdout",
     "output_type": "stream",
     "text": [
      "simulation 0\n",
      "simulation 1\n"
     ]
    },
    {
     "name": "stderr",
     "output_type": "stream",
     "text": [
      "IOPub message rate exceeded.\n",
      "The notebook server will temporarily stop sending output\n",
      "to the client in order to avoid crashing it.\n",
      "To change this limit, set the config variable\n",
      "`--NotebookApp.iopub_msg_rate_limit`.\n",
      "\n",
      "Current values:\n",
      "NotebookApp.iopub_msg_rate_limit=1000.0 (msgs/sec)\n",
      "NotebookApp.rate_limit_window=3.0 (secs)\n",
      "\n"
     ]
    },
    {
     "name": "stdout",
     "output_type": "stream",
     "text": [
      "simulation 2\n",
      "simulation 3\n",
      "simulation 4\n"
     ]
    },
    {
     "name": "stderr",
     "output_type": "stream",
     "text": [
      "IOPub message rate exceeded.\n",
      "The notebook server will temporarily stop sending output\n",
      "to the client in order to avoid crashing it.\n",
      "To change this limit, set the config variable\n",
      "`--NotebookApp.iopub_msg_rate_limit`.\n",
      "\n",
      "Current values:\n",
      "NotebookApp.iopub_msg_rate_limit=1000.0 (msgs/sec)\n",
      "NotebookApp.rate_limit_window=3.0 (secs)\n",
      "\n"
     ]
    },
    {
     "name": "stdout",
     "output_type": "stream",
     "text": [
      "simulation 6\n",
      "simulation 7\n",
      "simulation 8\n"
     ]
    },
    {
     "name": "stderr",
     "output_type": "stream",
     "text": [
      "IOPub message rate exceeded.\n",
      "The notebook server will temporarily stop sending output\n",
      "to the client in order to avoid crashing it.\n",
      "To change this limit, set the config variable\n",
      "`--NotebookApp.iopub_msg_rate_limit`.\n",
      "\n",
      "Current values:\n",
      "NotebookApp.iopub_msg_rate_limit=1000.0 (msgs/sec)\n",
      "NotebookApp.rate_limit_window=3.0 (secs)\n",
      "\n"
     ]
    },
    {
     "name": "stdout",
     "output_type": "stream",
     "text": [
      "simulation 10\n",
      "simulation 11\n"
     ]
    },
    {
     "name": "stderr",
     "output_type": "stream",
     "text": [
      "IOPub message rate exceeded.\n",
      "The notebook server will temporarily stop sending output\n",
      "to the client in order to avoid crashing it.\n",
      "To change this limit, set the config variable\n",
      "`--NotebookApp.iopub_msg_rate_limit`.\n",
      "\n",
      "Current values:\n",
      "NotebookApp.iopub_msg_rate_limit=1000.0 (msgs/sec)\n",
      "NotebookApp.rate_limit_window=3.0 (secs)\n",
      "\n"
     ]
    },
    {
     "name": "stdout",
     "output_type": "stream",
     "text": [
      "simulation 13\n",
      "simulation 14\n"
     ]
    },
    {
     "name": "stderr",
     "output_type": "stream",
     "text": [
      "IOPub message rate exceeded.\n",
      "The notebook server will temporarily stop sending output\n",
      "to the client in order to avoid crashing it.\n",
      "To change this limit, set the config variable\n",
      "`--NotebookApp.iopub_msg_rate_limit`.\n",
      "\n",
      "Current values:\n",
      "NotebookApp.iopub_msg_rate_limit=1000.0 (msgs/sec)\n",
      "NotebookApp.rate_limit_window=3.0 (secs)\n",
      "\n"
     ]
    },
    {
     "name": "stdout",
     "output_type": "stream",
     "text": [
      "simulation 16\n",
      "simulation 17\n"
     ]
    },
    {
     "name": "stderr",
     "output_type": "stream",
     "text": [
      "IOPub message rate exceeded.\n",
      "The notebook server will temporarily stop sending output\n",
      "to the client in order to avoid crashing it.\n",
      "To change this limit, set the config variable\n",
      "`--NotebookApp.iopub_msg_rate_limit`.\n",
      "\n",
      "Current values:\n",
      "NotebookApp.iopub_msg_rate_limit=1000.0 (msgs/sec)\n",
      "NotebookApp.rate_limit_window=3.0 (secs)\n",
      "\n"
     ]
    },
    {
     "name": "stdout",
     "output_type": "stream",
     "text": [
      "simulation 18\n",
      "simulation 19\n"
     ]
    },
    {
     "name": "stderr",
     "output_type": "stream",
     "text": [
      "IOPub message rate exceeded.\n",
      "The notebook server will temporarily stop sending output\n",
      "to the client in order to avoid crashing it.\n",
      "To change this limit, set the config variable\n",
      "`--NotebookApp.iopub_msg_rate_limit`.\n",
      "\n",
      "Current values:\n",
      "NotebookApp.iopub_msg_rate_limit=1000.0 (msgs/sec)\n",
      "NotebookApp.rate_limit_window=3.0 (secs)\n",
      "\n"
     ]
    },
    {
     "name": "stdout",
     "output_type": "stream",
     "text": [
      "simulation 0\n",
      "simulation 1\n"
     ]
    },
    {
     "name": "stderr",
     "output_type": "stream",
     "text": [
      "IOPub message rate exceeded.\n",
      "The notebook server will temporarily stop sending output\n",
      "to the client in order to avoid crashing it.\n",
      "To change this limit, set the config variable\n",
      "`--NotebookApp.iopub_msg_rate_limit`.\n",
      "\n",
      "Current values:\n",
      "NotebookApp.iopub_msg_rate_limit=1000.0 (msgs/sec)\n",
      "NotebookApp.rate_limit_window=3.0 (secs)\n",
      "\n"
     ]
    },
    {
     "name": "stdout",
     "output_type": "stream",
     "text": [
      "simulation 3\n",
      "simulation 4\n"
     ]
    },
    {
     "name": "stderr",
     "output_type": "stream",
     "text": [
      "IOPub message rate exceeded.\n",
      "The notebook server will temporarily stop sending output\n",
      "to the client in order to avoid crashing it.\n",
      "To change this limit, set the config variable\n",
      "`--NotebookApp.iopub_msg_rate_limit`.\n",
      "\n",
      "Current values:\n",
      "NotebookApp.iopub_msg_rate_limit=1000.0 (msgs/sec)\n",
      "NotebookApp.rate_limit_window=3.0 (secs)\n",
      "\n"
     ]
    },
    {
     "name": "stdout",
     "output_type": "stream",
     "text": [
      "simulation 6\n"
     ]
    },
    {
     "name": "stderr",
     "output_type": "stream",
     "text": [
      "IOPub message rate exceeded.\n",
      "The notebook server will temporarily stop sending output\n",
      "to the client in order to avoid crashing it.\n",
      "To change this limit, set the config variable\n",
      "`--NotebookApp.iopub_msg_rate_limit`.\n",
      "\n",
      "Current values:\n",
      "NotebookApp.iopub_msg_rate_limit=1000.0 (msgs/sec)\n",
      "NotebookApp.rate_limit_window=3.0 (secs)\n",
      "\n"
     ]
    },
    {
     "name": "stdout",
     "output_type": "stream",
     "text": [
      "simulation 8\n",
      "simulation 9\n"
     ]
    },
    {
     "name": "stderr",
     "output_type": "stream",
     "text": [
      "IOPub message rate exceeded.\n",
      "The notebook server will temporarily stop sending output\n",
      "to the client in order to avoid crashing it.\n",
      "To change this limit, set the config variable\n",
      "`--NotebookApp.iopub_msg_rate_limit`.\n",
      "\n",
      "Current values:\n",
      "NotebookApp.iopub_msg_rate_limit=1000.0 (msgs/sec)\n",
      "NotebookApp.rate_limit_window=3.0 (secs)\n",
      "\n"
     ]
    },
    {
     "name": "stdout",
     "output_type": "stream",
     "text": [
      "simulation 10\n",
      "simulation 11\n"
     ]
    },
    {
     "name": "stderr",
     "output_type": "stream",
     "text": [
      "IOPub message rate exceeded.\n",
      "The notebook server will temporarily stop sending output\n",
      "to the client in order to avoid crashing it.\n",
      "To change this limit, set the config variable\n",
      "`--NotebookApp.iopub_msg_rate_limit`.\n",
      "\n",
      "Current values:\n",
      "NotebookApp.iopub_msg_rate_limit=1000.0 (msgs/sec)\n",
      "NotebookApp.rate_limit_window=3.0 (secs)\n",
      "\n"
     ]
    },
    {
     "name": "stdout",
     "output_type": "stream",
     "text": [
      "simulation 13\n",
      "simulation 14\n"
     ]
    },
    {
     "name": "stderr",
     "output_type": "stream",
     "text": [
      "IOPub message rate exceeded.\n",
      "The notebook server will temporarily stop sending output\n",
      "to the client in order to avoid crashing it.\n",
      "To change this limit, set the config variable\n",
      "`--NotebookApp.iopub_msg_rate_limit`.\n",
      "\n",
      "Current values:\n",
      "NotebookApp.iopub_msg_rate_limit=1000.0 (msgs/sec)\n",
      "NotebookApp.rate_limit_window=3.0 (secs)\n",
      "\n"
     ]
    },
    {
     "name": "stdout",
     "output_type": "stream",
     "text": [
      "simulation 16\n"
     ]
    },
    {
     "name": "stderr",
     "output_type": "stream",
     "text": [
      "IOPub message rate exceeded.\n",
      "The notebook server will temporarily stop sending output\n",
      "to the client in order to avoid crashing it.\n",
      "To change this limit, set the config variable\n",
      "`--NotebookApp.iopub_msg_rate_limit`.\n",
      "\n",
      "Current values:\n",
      "NotebookApp.iopub_msg_rate_limit=1000.0 (msgs/sec)\n",
      "NotebookApp.rate_limit_window=3.0 (secs)\n",
      "\n"
     ]
    },
    {
     "name": "stdout",
     "output_type": "stream",
     "text": [
      "simulation 18\n",
      "simulation 19\n"
     ]
    },
    {
     "name": "stderr",
     "output_type": "stream",
     "text": [
      "IOPub message rate exceeded.\n",
      "The notebook server will temporarily stop sending output\n",
      "to the client in order to avoid crashing it.\n",
      "To change this limit, set the config variable\n",
      "`--NotebookApp.iopub_msg_rate_limit`.\n",
      "\n",
      "Current values:\n",
      "NotebookApp.iopub_msg_rate_limit=1000.0 (msgs/sec)\n",
      "NotebookApp.rate_limit_window=3.0 (secs)\n",
      "\n"
     ]
    },
    {
     "name": "stdout",
     "output_type": "stream",
     "text": [
      "simulation 1\n",
      "simulation 2\n"
     ]
    },
    {
     "name": "stderr",
     "output_type": "stream",
     "text": [
      "IOPub message rate exceeded.\n",
      "The notebook server will temporarily stop sending output\n",
      "to the client in order to avoid crashing it.\n",
      "To change this limit, set the config variable\n",
      "`--NotebookApp.iopub_msg_rate_limit`.\n",
      "\n",
      "Current values:\n",
      "NotebookApp.iopub_msg_rate_limit=1000.0 (msgs/sec)\n",
      "NotebookApp.rate_limit_window=3.0 (secs)\n",
      "\n"
     ]
    },
    {
     "name": "stdout",
     "output_type": "stream",
     "text": [
      "simulation 3\n",
      "simulation 4\n"
     ]
    },
    {
     "name": "stderr",
     "output_type": "stream",
     "text": [
      "IOPub message rate exceeded.\n",
      "The notebook server will temporarily stop sending output\n",
      "to the client in order to avoid crashing it.\n",
      "To change this limit, set the config variable\n",
      "`--NotebookApp.iopub_msg_rate_limit`.\n",
      "\n",
      "Current values:\n",
      "NotebookApp.iopub_msg_rate_limit=1000.0 (msgs/sec)\n",
      "NotebookApp.rate_limit_window=3.0 (secs)\n",
      "\n"
     ]
    },
    {
     "name": "stdout",
     "output_type": "stream",
     "text": [
      "simulation 6\n",
      "simulation 7\n"
     ]
    },
    {
     "name": "stderr",
     "output_type": "stream",
     "text": [
      "IOPub message rate exceeded.\n",
      "The notebook server will temporarily stop sending output\n",
      "to the client in order to avoid crashing it.\n",
      "To change this limit, set the config variable\n",
      "`--NotebookApp.iopub_msg_rate_limit`.\n",
      "\n",
      "Current values:\n",
      "NotebookApp.iopub_msg_rate_limit=1000.0 (msgs/sec)\n",
      "NotebookApp.rate_limit_window=3.0 (secs)\n",
      "\n"
     ]
    },
    {
     "name": "stdout",
     "output_type": "stream",
     "text": [
      "simulation 8\n",
      "simulation 9\n"
     ]
    },
    {
     "name": "stderr",
     "output_type": "stream",
     "text": [
      "IOPub message rate exceeded.\n",
      "The notebook server will temporarily stop sending output\n",
      "to the client in order to avoid crashing it.\n",
      "To change this limit, set the config variable\n",
      "`--NotebookApp.iopub_msg_rate_limit`.\n",
      "\n",
      "Current values:\n",
      "NotebookApp.iopub_msg_rate_limit=1000.0 (msgs/sec)\n",
      "NotebookApp.rate_limit_window=3.0 (secs)\n",
      "\n"
     ]
    },
    {
     "name": "stdout",
     "output_type": "stream",
     "text": [
      "simulation 11\n",
      "simulation 12\n"
     ]
    },
    {
     "name": "stderr",
     "output_type": "stream",
     "text": [
      "IOPub message rate exceeded.\n",
      "The notebook server will temporarily stop sending output\n",
      "to the client in order to avoid crashing it.\n",
      "To change this limit, set the config variable\n",
      "`--NotebookApp.iopub_msg_rate_limit`.\n",
      "\n",
      "Current values:\n",
      "NotebookApp.iopub_msg_rate_limit=1000.0 (msgs/sec)\n",
      "NotebookApp.rate_limit_window=3.0 (secs)\n",
      "\n"
     ]
    },
    {
     "name": "stdout",
     "output_type": "stream",
     "text": [
      "simulation 14\n"
     ]
    },
    {
     "name": "stderr",
     "output_type": "stream",
     "text": [
      "IOPub message rate exceeded.\n",
      "The notebook server will temporarily stop sending output\n",
      "to the client in order to avoid crashing it.\n",
      "To change this limit, set the config variable\n",
      "`--NotebookApp.iopub_msg_rate_limit`.\n",
      "\n",
      "Current values:\n",
      "NotebookApp.iopub_msg_rate_limit=1000.0 (msgs/sec)\n",
      "NotebookApp.rate_limit_window=3.0 (secs)\n",
      "\n"
     ]
    },
    {
     "name": "stdout",
     "output_type": "stream",
     "text": [
      "simulation 16\n",
      "simulation 17\n"
     ]
    },
    {
     "name": "stderr",
     "output_type": "stream",
     "text": [
      "IOPub message rate exceeded.\n",
      "The notebook server will temporarily stop sending output\n",
      "to the client in order to avoid crashing it.\n",
      "To change this limit, set the config variable\n",
      "`--NotebookApp.iopub_msg_rate_limit`.\n",
      "\n",
      "Current values:\n",
      "NotebookApp.iopub_msg_rate_limit=1000.0 (msgs/sec)\n",
      "NotebookApp.rate_limit_window=3.0 (secs)\n",
      "\n"
     ]
    },
    {
     "name": "stdout",
     "output_type": "stream",
     "text": [
      "simulation 19\n",
      "simulation 0\n"
     ]
    },
    {
     "name": "stderr",
     "output_type": "stream",
     "text": [
      "IOPub message rate exceeded.\n",
      "The notebook server will temporarily stop sending output\n",
      "to the client in order to avoid crashing it.\n",
      "To change this limit, set the config variable\n",
      "`--NotebookApp.iopub_msg_rate_limit`.\n",
      "\n",
      "Current values:\n",
      "NotebookApp.iopub_msg_rate_limit=1000.0 (msgs/sec)\n",
      "NotebookApp.rate_limit_window=3.0 (secs)\n",
      "\n"
     ]
    },
    {
     "name": "stdout",
     "output_type": "stream",
     "text": [
      "simulation 2\n",
      "simulation 3\n"
     ]
    },
    {
     "name": "stderr",
     "output_type": "stream",
     "text": [
      "IOPub message rate exceeded.\n",
      "The notebook server will temporarily stop sending output\n",
      "to the client in order to avoid crashing it.\n",
      "To change this limit, set the config variable\n",
      "`--NotebookApp.iopub_msg_rate_limit`.\n",
      "\n",
      "Current values:\n",
      "NotebookApp.iopub_msg_rate_limit=1000.0 (msgs/sec)\n",
      "NotebookApp.rate_limit_window=3.0 (secs)\n",
      "\n"
     ]
    },
    {
     "name": "stdout",
     "output_type": "stream",
     "text": [
      "simulation 4\n",
      "simulation 5\n"
     ]
    },
    {
     "name": "stderr",
     "output_type": "stream",
     "text": [
      "IOPub message rate exceeded.\n",
      "The notebook server will temporarily stop sending output\n",
      "to the client in order to avoid crashing it.\n",
      "To change this limit, set the config variable\n",
      "`--NotebookApp.iopub_msg_rate_limit`.\n",
      "\n",
      "Current values:\n",
      "NotebookApp.iopub_msg_rate_limit=1000.0 (msgs/sec)\n",
      "NotebookApp.rate_limit_window=3.0 (secs)\n",
      "\n"
     ]
    },
    {
     "name": "stdout",
     "output_type": "stream",
     "text": [
      "simulation 7\n",
      "simulation 8\n"
     ]
    },
    {
     "name": "stderr",
     "output_type": "stream",
     "text": [
      "IOPub message rate exceeded.\n",
      "The notebook server will temporarily stop sending output\n",
      "to the client in order to avoid crashing it.\n",
      "To change this limit, set the config variable\n",
      "`--NotebookApp.iopub_msg_rate_limit`.\n",
      "\n",
      "Current values:\n",
      "NotebookApp.iopub_msg_rate_limit=1000.0 (msgs/sec)\n",
      "NotebookApp.rate_limit_window=3.0 (secs)\n",
      "\n"
     ]
    },
    {
     "name": "stdout",
     "output_type": "stream",
     "text": [
      "simulation 9\n"
     ]
    },
    {
     "name": "stderr",
     "output_type": "stream",
     "text": [
      "IOPub message rate exceeded.\n",
      "The notebook server will temporarily stop sending output\n",
      "to the client in order to avoid crashing it.\n",
      "To change this limit, set the config variable\n",
      "`--NotebookApp.iopub_msg_rate_limit`.\n",
      "\n",
      "Current values:\n",
      "NotebookApp.iopub_msg_rate_limit=1000.0 (msgs/sec)\n",
      "NotebookApp.rate_limit_window=3.0 (secs)\n",
      "\n"
     ]
    },
    {
     "name": "stdout",
     "output_type": "stream",
     "text": [
      "simulation 10\n",
      "simulation 11\n"
     ]
    },
    {
     "name": "stderr",
     "output_type": "stream",
     "text": [
      "IOPub message rate exceeded.\n",
      "The notebook server will temporarily stop sending output\n",
      "to the client in order to avoid crashing it.\n",
      "To change this limit, set the config variable\n",
      "`--NotebookApp.iopub_msg_rate_limit`.\n",
      "\n",
      "Current values:\n",
      "NotebookApp.iopub_msg_rate_limit=1000.0 (msgs/sec)\n",
      "NotebookApp.rate_limit_window=3.0 (secs)\n",
      "\n"
     ]
    },
    {
     "name": "stdout",
     "output_type": "stream",
     "text": [
      "simulation 13\n"
     ]
    },
    {
     "name": "stderr",
     "output_type": "stream",
     "text": [
      "IOPub message rate exceeded.\n",
      "The notebook server will temporarily stop sending output\n",
      "to the client in order to avoid crashing it.\n",
      "To change this limit, set the config variable\n",
      "`--NotebookApp.iopub_msg_rate_limit`.\n",
      "\n",
      "Current values:\n",
      "NotebookApp.iopub_msg_rate_limit=1000.0 (msgs/sec)\n",
      "NotebookApp.rate_limit_window=3.0 (secs)\n",
      "\n"
     ]
    },
    {
     "name": "stdout",
     "output_type": "stream",
     "text": [
      "simulation 14\n",
      "simulation 15\n"
     ]
    },
    {
     "name": "stderr",
     "output_type": "stream",
     "text": [
      "IOPub message rate exceeded.\n",
      "The notebook server will temporarily stop sending output\n",
      "to the client in order to avoid crashing it.\n",
      "To change this limit, set the config variable\n",
      "`--NotebookApp.iopub_msg_rate_limit`.\n",
      "\n",
      "Current values:\n",
      "NotebookApp.iopub_msg_rate_limit=1000.0 (msgs/sec)\n",
      "NotebookApp.rate_limit_window=3.0 (secs)\n",
      "\n"
     ]
    },
    {
     "name": "stdout",
     "output_type": "stream",
     "text": [
      "simulation 17\n"
     ]
    },
    {
     "name": "stderr",
     "output_type": "stream",
     "text": [
      "IOPub message rate exceeded.\n",
      "The notebook server will temporarily stop sending output\n",
      "to the client in order to avoid crashing it.\n",
      "To change this limit, set the config variable\n",
      "`--NotebookApp.iopub_msg_rate_limit`.\n",
      "\n",
      "Current values:\n",
      "NotebookApp.iopub_msg_rate_limit=1000.0 (msgs/sec)\n",
      "NotebookApp.rate_limit_window=3.0 (secs)\n",
      "\n"
     ]
    },
    {
     "name": "stdout",
     "output_type": "stream",
     "text": [
      "simulation 19\n",
      "simulation 0\n"
     ]
    },
    {
     "name": "stderr",
     "output_type": "stream",
     "text": [
      "IOPub message rate exceeded.\n",
      "The notebook server will temporarily stop sending output\n",
      "to the client in order to avoid crashing it.\n",
      "To change this limit, set the config variable\n",
      "`--NotebookApp.iopub_msg_rate_limit`.\n",
      "\n",
      "Current values:\n",
      "NotebookApp.iopub_msg_rate_limit=1000.0 (msgs/sec)\n",
      "NotebookApp.rate_limit_window=3.0 (secs)\n",
      "\n"
     ]
    },
    {
     "name": "stdout",
     "output_type": "stream",
     "text": [
      "simulation 1\n"
     ]
    },
    {
     "name": "stderr",
     "output_type": "stream",
     "text": [
      "IOPub message rate exceeded.\n",
      "The notebook server will temporarily stop sending output\n",
      "to the client in order to avoid crashing it.\n",
      "To change this limit, set the config variable\n",
      "`--NotebookApp.iopub_msg_rate_limit`.\n",
      "\n",
      "Current values:\n",
      "NotebookApp.iopub_msg_rate_limit=1000.0 (msgs/sec)\n",
      "NotebookApp.rate_limit_window=3.0 (secs)\n",
      "\n"
     ]
    },
    {
     "name": "stdout",
     "output_type": "stream",
     "text": [
      "simulation 2\n"
     ]
    },
    {
     "name": "stderr",
     "output_type": "stream",
     "text": [
      "IOPub message rate exceeded.\n",
      "The notebook server will temporarily stop sending output\n",
      "to the client in order to avoid crashing it.\n",
      "To change this limit, set the config variable\n",
      "`--NotebookApp.iopub_msg_rate_limit`.\n",
      "\n",
      "Current values:\n",
      "NotebookApp.iopub_msg_rate_limit=1000.0 (msgs/sec)\n",
      "NotebookApp.rate_limit_window=3.0 (secs)\n",
      "\n"
     ]
    },
    {
     "name": "stdout",
     "output_type": "stream",
     "text": [
      "simulation 3\n"
     ]
    },
    {
     "name": "stderr",
     "output_type": "stream",
     "text": [
      "IOPub message rate exceeded.\n",
      "The notebook server will temporarily stop sending output\n",
      "to the client in order to avoid crashing it.\n",
      "To change this limit, set the config variable\n",
      "`--NotebookApp.iopub_msg_rate_limit`.\n",
      "\n",
      "Current values:\n",
      "NotebookApp.iopub_msg_rate_limit=1000.0 (msgs/sec)\n",
      "NotebookApp.rate_limit_window=3.0 (secs)\n",
      "\n"
     ]
    },
    {
     "name": "stdout",
     "output_type": "stream",
     "text": [
      "simulation 4\n"
     ]
    },
    {
     "name": "stderr",
     "output_type": "stream",
     "text": [
      "IOPub message rate exceeded.\n",
      "The notebook server will temporarily stop sending output\n",
      "to the client in order to avoid crashing it.\n",
      "To change this limit, set the config variable\n",
      "`--NotebookApp.iopub_msg_rate_limit`.\n",
      "\n",
      "Current values:\n",
      "NotebookApp.iopub_msg_rate_limit=1000.0 (msgs/sec)\n",
      "NotebookApp.rate_limit_window=3.0 (secs)\n",
      "\n"
     ]
    },
    {
     "name": "stdout",
     "output_type": "stream",
     "text": [
      "simulation 5\n"
     ]
    },
    {
     "name": "stderr",
     "output_type": "stream",
     "text": [
      "IOPub message rate exceeded.\n",
      "The notebook server will temporarily stop sending output\n",
      "to the client in order to avoid crashing it.\n",
      "To change this limit, set the config variable\n",
      "`--NotebookApp.iopub_msg_rate_limit`.\n",
      "\n",
      "Current values:\n",
      "NotebookApp.iopub_msg_rate_limit=1000.0 (msgs/sec)\n",
      "NotebookApp.rate_limit_window=3.0 (secs)\n",
      "\n"
     ]
    },
    {
     "name": "stdout",
     "output_type": "stream",
     "text": [
      "simulation 6\n",
      "simulation 7\n"
     ]
    },
    {
     "name": "stderr",
     "output_type": "stream",
     "text": [
      "IOPub message rate exceeded.\n",
      "The notebook server will temporarily stop sending output\n",
      "to the client in order to avoid crashing it.\n",
      "To change this limit, set the config variable\n",
      "`--NotebookApp.iopub_msg_rate_limit`.\n",
      "\n",
      "Current values:\n",
      "NotebookApp.iopub_msg_rate_limit=1000.0 (msgs/sec)\n",
      "NotebookApp.rate_limit_window=3.0 (secs)\n",
      "\n"
     ]
    },
    {
     "name": "stdout",
     "output_type": "stream",
     "text": [
      "simulation 8\n"
     ]
    },
    {
     "name": "stderr",
     "output_type": "stream",
     "text": [
      "IOPub message rate exceeded.\n",
      "The notebook server will temporarily stop sending output\n",
      "to the client in order to avoid crashing it.\n",
      "To change this limit, set the config variable\n",
      "`--NotebookApp.iopub_msg_rate_limit`.\n",
      "\n",
      "Current values:\n",
      "NotebookApp.iopub_msg_rate_limit=1000.0 (msgs/sec)\n",
      "NotebookApp.rate_limit_window=3.0 (secs)\n",
      "\n"
     ]
    },
    {
     "name": "stdout",
     "output_type": "stream",
     "text": [
      "simulation 9\n"
     ]
    },
    {
     "name": "stderr",
     "output_type": "stream",
     "text": [
      "IOPub message rate exceeded.\n",
      "The notebook server will temporarily stop sending output\n",
      "to the client in order to avoid crashing it.\n",
      "To change this limit, set the config variable\n",
      "`--NotebookApp.iopub_msg_rate_limit`.\n",
      "\n",
      "Current values:\n",
      "NotebookApp.iopub_msg_rate_limit=1000.0 (msgs/sec)\n",
      "NotebookApp.rate_limit_window=3.0 (secs)\n",
      "\n"
     ]
    },
    {
     "name": "stdout",
     "output_type": "stream",
     "text": [
      "simulation 10\n"
     ]
    },
    {
     "name": "stderr",
     "output_type": "stream",
     "text": [
      "IOPub message rate exceeded.\n",
      "The notebook server will temporarily stop sending output\n",
      "to the client in order to avoid crashing it.\n",
      "To change this limit, set the config variable\n",
      "`--NotebookApp.iopub_msg_rate_limit`.\n",
      "\n",
      "Current values:\n",
      "NotebookApp.iopub_msg_rate_limit=1000.0 (msgs/sec)\n",
      "NotebookApp.rate_limit_window=3.0 (secs)\n",
      "\n"
     ]
    },
    {
     "name": "stdout",
     "output_type": "stream",
     "text": [
      "simulation 11\n"
     ]
    },
    {
     "name": "stderr",
     "output_type": "stream",
     "text": [
      "IOPub message rate exceeded.\n",
      "The notebook server will temporarily stop sending output\n",
      "to the client in order to avoid crashing it.\n",
      "To change this limit, set the config variable\n",
      "`--NotebookApp.iopub_msg_rate_limit`.\n",
      "\n",
      "Current values:\n",
      "NotebookApp.iopub_msg_rate_limit=1000.0 (msgs/sec)\n",
      "NotebookApp.rate_limit_window=3.0 (secs)\n",
      "\n"
     ]
    },
    {
     "name": "stdout",
     "output_type": "stream",
     "text": [
      "simulation 12\n"
     ]
    },
    {
     "name": "stderr",
     "output_type": "stream",
     "text": [
      "IOPub message rate exceeded.\n",
      "The notebook server will temporarily stop sending output\n",
      "to the client in order to avoid crashing it.\n",
      "To change this limit, set the config variable\n",
      "`--NotebookApp.iopub_msg_rate_limit`.\n",
      "\n",
      "Current values:\n",
      "NotebookApp.iopub_msg_rate_limit=1000.0 (msgs/sec)\n",
      "NotebookApp.rate_limit_window=3.0 (secs)\n",
      "\n"
     ]
    },
    {
     "name": "stdout",
     "output_type": "stream",
     "text": [
      "simulation 13\n"
     ]
    },
    {
     "name": "stderr",
     "output_type": "stream",
     "text": [
      "IOPub message rate exceeded.\n",
      "The notebook server will temporarily stop sending output\n",
      "to the client in order to avoid crashing it.\n",
      "To change this limit, set the config variable\n",
      "`--NotebookApp.iopub_msg_rate_limit`.\n",
      "\n",
      "Current values:\n",
      "NotebookApp.iopub_msg_rate_limit=1000.0 (msgs/sec)\n",
      "NotebookApp.rate_limit_window=3.0 (secs)\n",
      "\n"
     ]
    },
    {
     "name": "stdout",
     "output_type": "stream",
     "text": [
      "simulation 14\n",
      "simulation 15\n"
     ]
    },
    {
     "name": "stderr",
     "output_type": "stream",
     "text": [
      "IOPub message rate exceeded.\n",
      "The notebook server will temporarily stop sending output\n",
      "to the client in order to avoid crashing it.\n",
      "To change this limit, set the config variable\n",
      "`--NotebookApp.iopub_msg_rate_limit`.\n",
      "\n",
      "Current values:\n",
      "NotebookApp.iopub_msg_rate_limit=1000.0 (msgs/sec)\n",
      "NotebookApp.rate_limit_window=3.0 (secs)\n",
      "\n"
     ]
    },
    {
     "name": "stdout",
     "output_type": "stream",
     "text": [
      "simulation 16\n",
      "simulation 17\n"
     ]
    },
    {
     "name": "stderr",
     "output_type": "stream",
     "text": [
      "IOPub message rate exceeded.\n",
      "The notebook server will temporarily stop sending output\n",
      "to the client in order to avoid crashing it.\n",
      "To change this limit, set the config variable\n",
      "`--NotebookApp.iopub_msg_rate_limit`.\n",
      "\n",
      "Current values:\n",
      "NotebookApp.iopub_msg_rate_limit=1000.0 (msgs/sec)\n",
      "NotebookApp.rate_limit_window=3.0 (secs)\n",
      "\n"
     ]
    },
    {
     "name": "stdout",
     "output_type": "stream",
     "text": [
      "simulation 18\n"
     ]
    },
    {
     "name": "stderr",
     "output_type": "stream",
     "text": [
      "IOPub message rate exceeded.\n",
      "The notebook server will temporarily stop sending output\n",
      "to the client in order to avoid crashing it.\n",
      "To change this limit, set the config variable\n",
      "`--NotebookApp.iopub_msg_rate_limit`.\n",
      "\n",
      "Current values:\n",
      "NotebookApp.iopub_msg_rate_limit=1000.0 (msgs/sec)\n",
      "NotebookApp.rate_limit_window=3.0 (secs)\n",
      "\n"
     ]
    },
    {
     "name": "stdout",
     "output_type": "stream",
     "text": [
      "simulation 19\n"
     ]
    },
    {
     "name": "stderr",
     "output_type": "stream",
     "text": [
      "IOPub message rate exceeded.\n",
      "The notebook server will temporarily stop sending output\n",
      "to the client in order to avoid crashing it.\n",
      "To change this limit, set the config variable\n",
      "`--NotebookApp.iopub_msg_rate_limit`.\n",
      "\n",
      "Current values:\n",
      "NotebookApp.iopub_msg_rate_limit=1000.0 (msgs/sec)\n",
      "NotebookApp.rate_limit_window=3.0 (secs)\n",
      "\n"
     ]
    }
   ],
   "source": [
    "prob_edges = [1, 2, 3, 4, 5]\n",
    "m_edges = {}\n",
    "for k in prob_edges:\n",
    "    result = []\n",
    "    for i in range(20):\n",
    "        print(\"simulation \" + str(i))\n",
    "        x = Network2(400, probEdges=k, infectionTime=4, immunityTime=12, probInfection=0.2, probDeath=0.1, probBirth=0)\n",
    "        x.initializeInfected(infected = 0.1)\n",
    "        result.append(x.simulate(days=100))\n",
    "    m_edges[k] = result"
   ]
  },
  {
   "cell_type": "code",
   "execution_count": 44,
   "metadata": {},
   "outputs": [
    {
     "data": {
      "image/png": "[encoded data removed]",
      "text/plain": [
       "<Figure size 432x288 with 1 Axes>"
      ]
     },
     "metadata": {
      "needs_background": "light"
     },
     "output_type": "display_data"
    }
   ],
   "source": [
    "for k in m_edges:\n",
    "    result = m_edges[k]\n",
    "    days, y, lasd = zip(*result)\n",
    "    days = sorted(days)\n",
    "    dead = [d/4 for d in y]\n",
    "    plot.scatter(days, dead, label=str(k))\n",
    "#     plot.scatter(days, dead)\n",
    "    plot.legend()\n",
    "    plot.xlim([10,80])\n",
    "    plot.xlabel(\"Days till infection settles\")\n",
    "    plot.ylabel(\"Percentage of population dead\")"
   ]
  },
  {
   "cell_type": "code",
   "execution_count": 41,
   "metadata": {},
   "outputs": [
    {
     "data": {
      "text/plain": [
       "[(100, 148, False),\n",
       " (100, 143, False),\n",
       " (100, 127, False),\n",
       " (100, 132, False),\n",
       " (100, 146, False),\n",
       " (100, 140, False),\n",
       " (23, 40, True),\n",
       " (100, 133, False),\n",
       " (100, 142, False),\n",
       " (100, 136, False),\n",
       " (100, 112, False),\n",
       " (100, 154, False),\n",
       " (100, 142, False),\n",
       " (100, 154, False),\n",
       " (18, 41, True),\n",
       " (100, 146, False),\n",
       " (18, 55, True),\n",
       " (100, 119, False),\n",
       " (100, 132, False),\n",
       " (100, 147, False)]"
      ]
     },
     "execution_count": 41,
     "metadata": {},
     "output_type": "execute_result"
    }
   ],
   "source": [
    "m_edges[5]"
   ]
  },
  {
   "cell_type": "markdown",
   "metadata": {},
   "source": [
    "# TODOs:\n",
    "\n",
    "I am still working on a few things:\n",
    "1. Integrating the birth/arrival of new nodes in the network\n",
    "2. Parallelizing the code, so it runs fast on GPUs. \n",
    "3. More importantly, the nature of link between two nodes. For that I have plans to assign weights to edges, and instead of a fixed probability of infection spread, I will be using that weight as the probability of infection.\n",
    "4. Lastly, I want to model changing the weights as well, to reflect how people grow closer/grow distant over time. I am still looking for a model which does this for a real world network, instead of just changing the weights randomly"
   ]
  },
  {
   "cell_type": "markdown",
   "metadata": {},
   "source": [
    "### Further work\n",
    "1. Effects of lockdown, both on partial segment of graph and full segment\n",
    "2. Effects of vaccine, which will decrease the probability of infection, and make immunity last longer.\n",
    "3. Modeling herd immunity. (The percentage of nodes that need to become immune so that virus will stop spreading)"
   ]
  }
 ],
 "metadata": {
  "kernelspec": {
   "display_name": "Python 3",
   "language": "python",
   "name": "python3"
  },
  "language_info": {
   "codemirror_mode": {
    "name": "ipython",
    "version": 3
   },
   "file_extension": ".py",
   "mimetype": "text/x-python",
   "name": "python",
   "nbconvert_exporter": "python",
   "pygments_lexer": "ipython3",
   "version": "3.8.5"
  }
 },
 "nbformat": 4,
 "nbformat_minor": 4
}
